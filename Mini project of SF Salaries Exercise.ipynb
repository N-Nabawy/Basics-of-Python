{
 "cells": [
  {
   "cell_type": "markdown",
   "metadata": {},
   "source": [
    "# SF Salaries Exercise \n",
    "\n"
   ]
  },
  {
   "cell_type": "markdown",
   "metadata": {},
   "source": [
    "** Import pandas as pd.**"
   ]
  },
  {
   "cell_type": "code",
   "execution_count": 1,
   "metadata": {},
   "outputs": [],
   "source": [
    "import pandas as pd"
   ]
  },
  {
   "cell_type": "markdown",
   "metadata": {},
   "source": [
    "** Read Salaries.csv as a dataframe called sal.**"
   ]
  },
  {
   "cell_type": "code",
   "execution_count": 2,
   "metadata": {},
   "outputs": [],
   "source": [
    "# Assign data frame as sal and read this csv file from home of jupter.\n",
    "\n",
    "sal= pd.read_csv('Salaries.csv')"
   ]
  },
  {
   "cell_type": "code",
   "execution_count": 3,
   "metadata": {},
   "outputs": [
    {
     "data": {
      "text/html": [
       "<div>\n",
       "<style scoped>\n",
       "    .dataframe tbody tr th:only-of-type {\n",
       "        vertical-align: middle;\n",
       "    }\n",
       "\n",
       "    .dataframe tbody tr th {\n",
       "        vertical-align: top;\n",
       "    }\n",
       "\n",
       "    .dataframe thead th {\n",
       "        text-align: right;\n",
       "    }\n",
       "</style>\n",
       "<table border=\"1\" class=\"dataframe\">\n",
       "  <thead>\n",
       "    <tr style=\"text-align: right;\">\n",
       "      <th></th>\n",
       "      <th>0</th>\n",
       "      <th>1</th>\n",
       "      <th>2</th>\n",
       "      <th>3</th>\n",
       "      <th>4</th>\n",
       "      <th>5</th>\n",
       "      <th>6</th>\n",
       "      <th>7</th>\n",
       "      <th>8</th>\n",
       "      <th>9</th>\n",
       "      <th>...</th>\n",
       "      <th>148644</th>\n",
       "      <th>148645</th>\n",
       "      <th>148646</th>\n",
       "      <th>148647</th>\n",
       "      <th>148648</th>\n",
       "      <th>148649</th>\n",
       "      <th>148650</th>\n",
       "      <th>148651</th>\n",
       "      <th>148652</th>\n",
       "      <th>148653</th>\n",
       "    </tr>\n",
       "  </thead>\n",
       "  <tbody>\n",
       "    <tr>\n",
       "      <th>Id</th>\n",
       "      <td>1</td>\n",
       "      <td>2</td>\n",
       "      <td>3</td>\n",
       "      <td>4</td>\n",
       "      <td>5</td>\n",
       "      <td>6</td>\n",
       "      <td>7</td>\n",
       "      <td>8</td>\n",
       "      <td>9</td>\n",
       "      <td>10</td>\n",
       "      <td>...</td>\n",
       "      <td>148645</td>\n",
       "      <td>148646</td>\n",
       "      <td>148647</td>\n",
       "      <td>148648</td>\n",
       "      <td>148649</td>\n",
       "      <td>148650</td>\n",
       "      <td>148651</td>\n",
       "      <td>148652</td>\n",
       "      <td>148653</td>\n",
       "      <td>148654</td>\n",
       "    </tr>\n",
       "    <tr>\n",
       "      <th>EmployeeName</th>\n",
       "      <td>NATHANIEL FORD</td>\n",
       "      <td>GARY JIMENEZ</td>\n",
       "      <td>ALBERT PARDINI</td>\n",
       "      <td>CHRISTOPHER CHONG</td>\n",
       "      <td>PATRICK GARDNER</td>\n",
       "      <td>DAVID SULLIVAN</td>\n",
       "      <td>ALSON LEE</td>\n",
       "      <td>DAVID KUSHNER</td>\n",
       "      <td>MICHAEL MORRIS</td>\n",
       "      <td>JOANNE HAYES-WHITE</td>\n",
       "      <td>...</td>\n",
       "      <td>Randy D Winn</td>\n",
       "      <td>Carolyn A Wilson</td>\n",
       "      <td>Not provided</td>\n",
       "      <td>Joann Anderson</td>\n",
       "      <td>Leon Walker</td>\n",
       "      <td>Roy I Tillery</td>\n",
       "      <td>Not provided</td>\n",
       "      <td>Not provided</td>\n",
       "      <td>Not provided</td>\n",
       "      <td>Joe Lopez</td>\n",
       "    </tr>\n",
       "    <tr>\n",
       "      <th>JobTitle</th>\n",
       "      <td>GENERAL MANAGER-METROPOLITAN TRANSIT AUTHORITY</td>\n",
       "      <td>CAPTAIN III (POLICE DEPARTMENT)</td>\n",
       "      <td>CAPTAIN III (POLICE DEPARTMENT)</td>\n",
       "      <td>WIRE ROPE CABLE MAINTENANCE MECHANIC</td>\n",
       "      <td>DEPUTY CHIEF OF DEPARTMENT,(FIRE DEPARTMENT)</td>\n",
       "      <td>ASSISTANT DEPUTY CHIEF II</td>\n",
       "      <td>BATTALION CHIEF, (FIRE DEPARTMENT)</td>\n",
       "      <td>DEPUTY DIRECTOR OF INVESTMENTS</td>\n",
       "      <td>BATTALION CHIEF, (FIRE DEPARTMENT)</td>\n",
       "      <td>CHIEF OF DEPARTMENT, (FIRE DEPARTMENT)</td>\n",
       "      <td>...</td>\n",
       "      <td>Stationary Eng, Sewage Plant</td>\n",
       "      <td>Human Services Technician</td>\n",
       "      <td>Not provided</td>\n",
       "      <td>Communications Dispatcher 2</td>\n",
       "      <td>Custodian</td>\n",
       "      <td>Custodian</td>\n",
       "      <td>Not provided</td>\n",
       "      <td>Not provided</td>\n",
       "      <td>Not provided</td>\n",
       "      <td>Counselor, Log Cabin Ranch</td>\n",
       "    </tr>\n",
       "    <tr>\n",
       "      <th>BasePay</th>\n",
       "      <td>167411.18</td>\n",
       "      <td>155966.02</td>\n",
       "      <td>212739.13</td>\n",
       "      <td>77916.0</td>\n",
       "      <td>134401.6</td>\n",
       "      <td>118602.0</td>\n",
       "      <td>92492.01</td>\n",
       "      <td>256576.96</td>\n",
       "      <td>176932.64</td>\n",
       "      <td>285262.0</td>\n",
       "      <td>...</td>\n",
       "      <td>0.0</td>\n",
       "      <td>0.0</td>\n",
       "      <td>NaN</td>\n",
       "      <td>0.0</td>\n",
       "      <td>0.0</td>\n",
       "      <td>0.0</td>\n",
       "      <td>NaN</td>\n",
       "      <td>NaN</td>\n",
       "      <td>NaN</td>\n",
       "      <td>0.0</td>\n",
       "    </tr>\n",
       "    <tr>\n",
       "      <th>OvertimePay</th>\n",
       "      <td>0.0</td>\n",
       "      <td>245131.88</td>\n",
       "      <td>106088.18</td>\n",
       "      <td>56120.71</td>\n",
       "      <td>9737.0</td>\n",
       "      <td>8601.0</td>\n",
       "      <td>89062.9</td>\n",
       "      <td>0.0</td>\n",
       "      <td>86362.68</td>\n",
       "      <td>0.0</td>\n",
       "      <td>...</td>\n",
       "      <td>0.0</td>\n",
       "      <td>0.0</td>\n",
       "      <td>NaN</td>\n",
       "      <td>0.0</td>\n",
       "      <td>0.0</td>\n",
       "      <td>0.0</td>\n",
       "      <td>NaN</td>\n",
       "      <td>NaN</td>\n",
       "      <td>NaN</td>\n",
       "      <td>0.0</td>\n",
       "    </tr>\n",
       "    <tr>\n",
       "      <th>OtherPay</th>\n",
       "      <td>400184.25</td>\n",
       "      <td>137811.38</td>\n",
       "      <td>16452.6</td>\n",
       "      <td>198306.9</td>\n",
       "      <td>182234.59</td>\n",
       "      <td>189082.74</td>\n",
       "      <td>134426.14</td>\n",
       "      <td>51322.5</td>\n",
       "      <td>40132.23</td>\n",
       "      <td>17115.73</td>\n",
       "      <td>...</td>\n",
       "      <td>0.0</td>\n",
       "      <td>0.0</td>\n",
       "      <td>NaN</td>\n",
       "      <td>0.0</td>\n",
       "      <td>0.0</td>\n",
       "      <td>0.0</td>\n",
       "      <td>NaN</td>\n",
       "      <td>NaN</td>\n",
       "      <td>NaN</td>\n",
       "      <td>-618.13</td>\n",
       "    </tr>\n",
       "    <tr>\n",
       "      <th>Benefits</th>\n",
       "      <td>NaN</td>\n",
       "      <td>NaN</td>\n",
       "      <td>NaN</td>\n",
       "      <td>NaN</td>\n",
       "      <td>NaN</td>\n",
       "      <td>NaN</td>\n",
       "      <td>NaN</td>\n",
       "      <td>NaN</td>\n",
       "      <td>NaN</td>\n",
       "      <td>NaN</td>\n",
       "      <td>...</td>\n",
       "      <td>0.0</td>\n",
       "      <td>0.0</td>\n",
       "      <td>NaN</td>\n",
       "      <td>0.0</td>\n",
       "      <td>0.0</td>\n",
       "      <td>0.0</td>\n",
       "      <td>NaN</td>\n",
       "      <td>NaN</td>\n",
       "      <td>NaN</td>\n",
       "      <td>0.0</td>\n",
       "    </tr>\n",
       "    <tr>\n",
       "      <th>TotalPay</th>\n",
       "      <td>567595.43</td>\n",
       "      <td>538909.28</td>\n",
       "      <td>335279.91</td>\n",
       "      <td>332343.61</td>\n",
       "      <td>326373.19</td>\n",
       "      <td>316285.74</td>\n",
       "      <td>315981.05</td>\n",
       "      <td>307899.46</td>\n",
       "      <td>303427.55</td>\n",
       "      <td>302377.73</td>\n",
       "      <td>...</td>\n",
       "      <td>0.0</td>\n",
       "      <td>0.0</td>\n",
       "      <td>0.0</td>\n",
       "      <td>0.0</td>\n",
       "      <td>0.0</td>\n",
       "      <td>0.0</td>\n",
       "      <td>0.0</td>\n",
       "      <td>0.0</td>\n",
       "      <td>0.0</td>\n",
       "      <td>-618.13</td>\n",
       "    </tr>\n",
       "    <tr>\n",
       "      <th>TotalPayBenefits</th>\n",
       "      <td>567595.43</td>\n",
       "      <td>538909.28</td>\n",
       "      <td>335279.91</td>\n",
       "      <td>332343.61</td>\n",
       "      <td>326373.19</td>\n",
       "      <td>316285.74</td>\n",
       "      <td>315981.05</td>\n",
       "      <td>307899.46</td>\n",
       "      <td>303427.55</td>\n",
       "      <td>302377.73</td>\n",
       "      <td>...</td>\n",
       "      <td>0.0</td>\n",
       "      <td>0.0</td>\n",
       "      <td>0.0</td>\n",
       "      <td>0.0</td>\n",
       "      <td>0.0</td>\n",
       "      <td>0.0</td>\n",
       "      <td>0.0</td>\n",
       "      <td>0.0</td>\n",
       "      <td>0.0</td>\n",
       "      <td>-618.13</td>\n",
       "    </tr>\n",
       "    <tr>\n",
       "      <th>Year</th>\n",
       "      <td>2011</td>\n",
       "      <td>2011</td>\n",
       "      <td>2011</td>\n",
       "      <td>2011</td>\n",
       "      <td>2011</td>\n",
       "      <td>2011</td>\n",
       "      <td>2011</td>\n",
       "      <td>2011</td>\n",
       "      <td>2011</td>\n",
       "      <td>2011</td>\n",
       "      <td>...</td>\n",
       "      <td>2014</td>\n",
       "      <td>2014</td>\n",
       "      <td>2014</td>\n",
       "      <td>2014</td>\n",
       "      <td>2014</td>\n",
       "      <td>2014</td>\n",
       "      <td>2014</td>\n",
       "      <td>2014</td>\n",
       "      <td>2014</td>\n",
       "      <td>2014</td>\n",
       "    </tr>\n",
       "    <tr>\n",
       "      <th>Notes</th>\n",
       "      <td>NaN</td>\n",
       "      <td>NaN</td>\n",
       "      <td>NaN</td>\n",
       "      <td>NaN</td>\n",
       "      <td>NaN</td>\n",
       "      <td>NaN</td>\n",
       "      <td>NaN</td>\n",
       "      <td>NaN</td>\n",
       "      <td>NaN</td>\n",
       "      <td>NaN</td>\n",
       "      <td>...</td>\n",
       "      <td>NaN</td>\n",
       "      <td>NaN</td>\n",
       "      <td>NaN</td>\n",
       "      <td>NaN</td>\n",
       "      <td>NaN</td>\n",
       "      <td>NaN</td>\n",
       "      <td>NaN</td>\n",
       "      <td>NaN</td>\n",
       "      <td>NaN</td>\n",
       "      <td>NaN</td>\n",
       "    </tr>\n",
       "    <tr>\n",
       "      <th>Agency</th>\n",
       "      <td>San Francisco</td>\n",
       "      <td>San Francisco</td>\n",
       "      <td>San Francisco</td>\n",
       "      <td>San Francisco</td>\n",
       "      <td>San Francisco</td>\n",
       "      <td>San Francisco</td>\n",
       "      <td>San Francisco</td>\n",
       "      <td>San Francisco</td>\n",
       "      <td>San Francisco</td>\n",
       "      <td>San Francisco</td>\n",
       "      <td>...</td>\n",
       "      <td>San Francisco</td>\n",
       "      <td>San Francisco</td>\n",
       "      <td>San Francisco</td>\n",
       "      <td>San Francisco</td>\n",
       "      <td>San Francisco</td>\n",
       "      <td>San Francisco</td>\n",
       "      <td>San Francisco</td>\n",
       "      <td>San Francisco</td>\n",
       "      <td>San Francisco</td>\n",
       "      <td>San Francisco</td>\n",
       "    </tr>\n",
       "    <tr>\n",
       "      <th>Status</th>\n",
       "      <td>NaN</td>\n",
       "      <td>NaN</td>\n",
       "      <td>NaN</td>\n",
       "      <td>NaN</td>\n",
       "      <td>NaN</td>\n",
       "      <td>NaN</td>\n",
       "      <td>NaN</td>\n",
       "      <td>NaN</td>\n",
       "      <td>NaN</td>\n",
       "      <td>NaN</td>\n",
       "      <td>...</td>\n",
       "      <td>NaN</td>\n",
       "      <td>NaN</td>\n",
       "      <td>NaN</td>\n",
       "      <td>NaN</td>\n",
       "      <td>NaN</td>\n",
       "      <td>NaN</td>\n",
       "      <td>NaN</td>\n",
       "      <td>NaN</td>\n",
       "      <td>NaN</td>\n",
       "      <td>NaN</td>\n",
       "    </tr>\n",
       "  </tbody>\n",
       "</table>\n",
       "<p>13 rows × 148654 columns</p>\n",
       "</div>"
      ],
      "text/plain": [
       "                                                          0       \\\n",
       "Id                                                             1   \n",
       "EmployeeName                                      NATHANIEL FORD   \n",
       "JobTitle          GENERAL MANAGER-METROPOLITAN TRANSIT AUTHORITY   \n",
       "BasePay                                                167411.18   \n",
       "OvertimePay                                                  0.0   \n",
       "OtherPay                                               400184.25   \n",
       "Benefits                                                     NaN   \n",
       "TotalPay                                               567595.43   \n",
       "TotalPayBenefits                                       567595.43   \n",
       "Year                                                        2011   \n",
       "Notes                                                        NaN   \n",
       "Agency                                             San Francisco   \n",
       "Status                                                       NaN   \n",
       "\n",
       "                                           1       \\\n",
       "Id                                              2   \n",
       "EmployeeName                         GARY JIMENEZ   \n",
       "JobTitle          CAPTAIN III (POLICE DEPARTMENT)   \n",
       "BasePay                                 155966.02   \n",
       "OvertimePay                             245131.88   \n",
       "OtherPay                                137811.38   \n",
       "Benefits                                      NaN   \n",
       "TotalPay                                538909.28   \n",
       "TotalPayBenefits                        538909.28   \n",
       "Year                                         2011   \n",
       "Notes                                         NaN   \n",
       "Agency                              San Francisco   \n",
       "Status                                        NaN   \n",
       "\n",
       "                                           2       \\\n",
       "Id                                              3   \n",
       "EmployeeName                       ALBERT PARDINI   \n",
       "JobTitle          CAPTAIN III (POLICE DEPARTMENT)   \n",
       "BasePay                                 212739.13   \n",
       "OvertimePay                             106088.18   \n",
       "OtherPay                                  16452.6   \n",
       "Benefits                                      NaN   \n",
       "TotalPay                                335279.91   \n",
       "TotalPayBenefits                        335279.91   \n",
       "Year                                         2011   \n",
       "Notes                                         NaN   \n",
       "Agency                              San Francisco   \n",
       "Status                                        NaN   \n",
       "\n",
       "                                                3       \\\n",
       "Id                                                   4   \n",
       "EmployeeName                         CHRISTOPHER CHONG   \n",
       "JobTitle          WIRE ROPE CABLE MAINTENANCE MECHANIC   \n",
       "BasePay                                        77916.0   \n",
       "OvertimePay                                   56120.71   \n",
       "OtherPay                                      198306.9   \n",
       "Benefits                                           NaN   \n",
       "TotalPay                                     332343.61   \n",
       "TotalPayBenefits                             332343.61   \n",
       "Year                                              2011   \n",
       "Notes                                              NaN   \n",
       "Agency                                   San Francisco   \n",
       "Status                                             NaN   \n",
       "\n",
       "                                                        4       \\\n",
       "Id                                                           5   \n",
       "EmployeeName                                   PATRICK GARDNER   \n",
       "JobTitle          DEPUTY CHIEF OF DEPARTMENT,(FIRE DEPARTMENT)   \n",
       "BasePay                                               134401.6   \n",
       "OvertimePay                                             9737.0   \n",
       "OtherPay                                             182234.59   \n",
       "Benefits                                                   NaN   \n",
       "TotalPay                                             326373.19   \n",
       "TotalPayBenefits                                     326373.19   \n",
       "Year                                                      2011   \n",
       "Notes                                                      NaN   \n",
       "Agency                                           San Francisco   \n",
       "Status                                                     NaN   \n",
       "\n",
       "                                     5       \\\n",
       "Id                                        6   \n",
       "EmployeeName                 DAVID SULLIVAN   \n",
       "JobTitle          ASSISTANT DEPUTY CHIEF II   \n",
       "BasePay                            118602.0   \n",
       "OvertimePay                          8601.0   \n",
       "OtherPay                          189082.74   \n",
       "Benefits                                NaN   \n",
       "TotalPay                          316285.74   \n",
       "TotalPayBenefits                  316285.74   \n",
       "Year                                   2011   \n",
       "Notes                                   NaN   \n",
       "Agency                        San Francisco   \n",
       "Status                                  NaN   \n",
       "\n",
       "                                              6       \\\n",
       "Id                                                 7   \n",
       "EmployeeName                               ALSON LEE   \n",
       "JobTitle          BATTALION CHIEF, (FIRE DEPARTMENT)   \n",
       "BasePay                                     92492.01   \n",
       "OvertimePay                                  89062.9   \n",
       "OtherPay                                   134426.14   \n",
       "Benefits                                         NaN   \n",
       "TotalPay                                   315981.05   \n",
       "TotalPayBenefits                           315981.05   \n",
       "Year                                            2011   \n",
       "Notes                                            NaN   \n",
       "Agency                                 San Francisco   \n",
       "Status                                           NaN   \n",
       "\n",
       "                                          7       \\\n",
       "Id                                             8   \n",
       "EmployeeName                       DAVID KUSHNER   \n",
       "JobTitle          DEPUTY DIRECTOR OF INVESTMENTS   \n",
       "BasePay                                256576.96   \n",
       "OvertimePay                                  0.0   \n",
       "OtherPay                                 51322.5   \n",
       "Benefits                                     NaN   \n",
       "TotalPay                               307899.46   \n",
       "TotalPayBenefits                       307899.46   \n",
       "Year                                        2011   \n",
       "Notes                                        NaN   \n",
       "Agency                             San Francisco   \n",
       "Status                                       NaN   \n",
       "\n",
       "                                              8       \\\n",
       "Id                                                 9   \n",
       "EmployeeName                          MICHAEL MORRIS   \n",
       "JobTitle          BATTALION CHIEF, (FIRE DEPARTMENT)   \n",
       "BasePay                                    176932.64   \n",
       "OvertimePay                                 86362.68   \n",
       "OtherPay                                    40132.23   \n",
       "Benefits                                         NaN   \n",
       "TotalPay                                   303427.55   \n",
       "TotalPayBenefits                           303427.55   \n",
       "Year                                            2011   \n",
       "Notes                                            NaN   \n",
       "Agency                                 San Francisco   \n",
       "Status                                           NaN   \n",
       "\n",
       "                                                  9       ...  \\\n",
       "Id                                                    10  ...   \n",
       "EmployeeName                          JOANNE HAYES-WHITE  ...   \n",
       "JobTitle          CHIEF OF DEPARTMENT, (FIRE DEPARTMENT)  ...   \n",
       "BasePay                                         285262.0  ...   \n",
       "OvertimePay                                          0.0  ...   \n",
       "OtherPay                                        17115.73  ...   \n",
       "Benefits                                             NaN  ...   \n",
       "TotalPay                                       302377.73  ...   \n",
       "TotalPayBenefits                               302377.73  ...   \n",
       "Year                                                2011  ...   \n",
       "Notes                                                NaN  ...   \n",
       "Agency                                     San Francisco  ...   \n",
       "Status                                               NaN  ...   \n",
       "\n",
       "                                        148644                     148645  \\\n",
       "Id                                      148645                     148646   \n",
       "EmployeeName                      Randy D Winn           Carolyn A Wilson   \n",
       "JobTitle          Stationary Eng, Sewage Plant  Human Services Technician   \n",
       "BasePay                                    0.0                        0.0   \n",
       "OvertimePay                                0.0                        0.0   \n",
       "OtherPay                                   0.0                        0.0   \n",
       "Benefits                                   0.0                        0.0   \n",
       "TotalPay                                   0.0                        0.0   \n",
       "TotalPayBenefits                           0.0                        0.0   \n",
       "Year                                      2014                       2014   \n",
       "Notes                                      NaN                        NaN   \n",
       "Agency                           San Francisco              San Francisco   \n",
       "Status                                     NaN                        NaN   \n",
       "\n",
       "                         148646                       148647         148648  \\\n",
       "Id                       148647                       148648         148649   \n",
       "EmployeeName       Not provided               Joann Anderson    Leon Walker   \n",
       "JobTitle           Not provided  Communications Dispatcher 2      Custodian   \n",
       "BasePay                     NaN                          0.0            0.0   \n",
       "OvertimePay                 NaN                          0.0            0.0   \n",
       "OtherPay                    NaN                          0.0            0.0   \n",
       "Benefits                    NaN                          0.0            0.0   \n",
       "TotalPay                    0.0                          0.0            0.0   \n",
       "TotalPayBenefits            0.0                          0.0            0.0   \n",
       "Year                       2014                         2014           2014   \n",
       "Notes                       NaN                          NaN            NaN   \n",
       "Agency            San Francisco                San Francisco  San Francisco   \n",
       "Status                      NaN                          NaN            NaN   \n",
       "\n",
       "                         148649         148650         148651         148652  \\\n",
       "Id                       148650         148651         148652         148653   \n",
       "EmployeeName      Roy I Tillery   Not provided   Not provided   Not provided   \n",
       "JobTitle              Custodian   Not provided   Not provided   Not provided   \n",
       "BasePay                     0.0            NaN            NaN            NaN   \n",
       "OvertimePay                 0.0            NaN            NaN            NaN   \n",
       "OtherPay                    0.0            NaN            NaN            NaN   \n",
       "Benefits                    0.0            NaN            NaN            NaN   \n",
       "TotalPay                    0.0            0.0            0.0            0.0   \n",
       "TotalPayBenefits            0.0            0.0            0.0            0.0   \n",
       "Year                       2014           2014           2014           2014   \n",
       "Notes                       NaN            NaN            NaN            NaN   \n",
       "Agency            San Francisco  San Francisco  San Francisco  San Francisco   \n",
       "Status                      NaN            NaN            NaN            NaN   \n",
       "\n",
       "                                      148653  \n",
       "Id                                    148654  \n",
       "EmployeeName                       Joe Lopez  \n",
       "JobTitle          Counselor, Log Cabin Ranch  \n",
       "BasePay                                  0.0  \n",
       "OvertimePay                              0.0  \n",
       "OtherPay                             -618.13  \n",
       "Benefits                                 0.0  \n",
       "TotalPay                             -618.13  \n",
       "TotalPayBenefits                     -618.13  \n",
       "Year                                    2014  \n",
       "Notes                                    NaN  \n",
       "Agency                         San Francisco  \n",
       "Status                                   NaN  \n",
       "\n",
       "[13 rows x 148654 columns]"
      ]
     },
     "execution_count": 3,
     "metadata": {},
     "output_type": "execute_result"
    }
   ],
   "source": [
    "# This for showing indexes and colums vice versa\n",
    "sal.transpose()"
   ]
  },
  {
   "cell_type": "markdown",
   "metadata": {},
   "source": [
    "** Check the head of the DataFrame. **"
   ]
  },
  {
   "cell_type": "code",
   "execution_count": 4,
   "metadata": {},
   "outputs": [
    {
     "data": {
      "text/html": [
       "<div>\n",
       "<style scoped>\n",
       "    .dataframe tbody tr th:only-of-type {\n",
       "        vertical-align: middle;\n",
       "    }\n",
       "\n",
       "    .dataframe tbody tr th {\n",
       "        vertical-align: top;\n",
       "    }\n",
       "\n",
       "    .dataframe thead th {\n",
       "        text-align: right;\n",
       "    }\n",
       "</style>\n",
       "<table border=\"1\" class=\"dataframe\">\n",
       "  <thead>\n",
       "    <tr style=\"text-align: right;\">\n",
       "      <th></th>\n",
       "      <th>Id</th>\n",
       "      <th>EmployeeName</th>\n",
       "      <th>JobTitle</th>\n",
       "      <th>BasePay</th>\n",
       "      <th>OvertimePay</th>\n",
       "      <th>OtherPay</th>\n",
       "      <th>Benefits</th>\n",
       "      <th>TotalPay</th>\n",
       "      <th>TotalPayBenefits</th>\n",
       "      <th>Year</th>\n",
       "      <th>Notes</th>\n",
       "      <th>Agency</th>\n",
       "      <th>Status</th>\n",
       "    </tr>\n",
       "  </thead>\n",
       "  <tbody>\n",
       "    <tr>\n",
       "      <th>0</th>\n",
       "      <td>1</td>\n",
       "      <td>NATHANIEL FORD</td>\n",
       "      <td>GENERAL MANAGER-METROPOLITAN TRANSIT AUTHORITY</td>\n",
       "      <td>167411.18</td>\n",
       "      <td>0.00</td>\n",
       "      <td>400184.25</td>\n",
       "      <td>NaN</td>\n",
       "      <td>567595.43</td>\n",
       "      <td>567595.43</td>\n",
       "      <td>2011</td>\n",
       "      <td>NaN</td>\n",
       "      <td>San Francisco</td>\n",
       "      <td>NaN</td>\n",
       "    </tr>\n",
       "    <tr>\n",
       "      <th>1</th>\n",
       "      <td>2</td>\n",
       "      <td>GARY JIMENEZ</td>\n",
       "      <td>CAPTAIN III (POLICE DEPARTMENT)</td>\n",
       "      <td>155966.02</td>\n",
       "      <td>245131.88</td>\n",
       "      <td>137811.38</td>\n",
       "      <td>NaN</td>\n",
       "      <td>538909.28</td>\n",
       "      <td>538909.28</td>\n",
       "      <td>2011</td>\n",
       "      <td>NaN</td>\n",
       "      <td>San Francisco</td>\n",
       "      <td>NaN</td>\n",
       "    </tr>\n",
       "    <tr>\n",
       "      <th>2</th>\n",
       "      <td>3</td>\n",
       "      <td>ALBERT PARDINI</td>\n",
       "      <td>CAPTAIN III (POLICE DEPARTMENT)</td>\n",
       "      <td>212739.13</td>\n",
       "      <td>106088.18</td>\n",
       "      <td>16452.60</td>\n",
       "      <td>NaN</td>\n",
       "      <td>335279.91</td>\n",
       "      <td>335279.91</td>\n",
       "      <td>2011</td>\n",
       "      <td>NaN</td>\n",
       "      <td>San Francisco</td>\n",
       "      <td>NaN</td>\n",
       "    </tr>\n",
       "    <tr>\n",
       "      <th>3</th>\n",
       "      <td>4</td>\n",
       "      <td>CHRISTOPHER CHONG</td>\n",
       "      <td>WIRE ROPE CABLE MAINTENANCE MECHANIC</td>\n",
       "      <td>77916.00</td>\n",
       "      <td>56120.71</td>\n",
       "      <td>198306.90</td>\n",
       "      <td>NaN</td>\n",
       "      <td>332343.61</td>\n",
       "      <td>332343.61</td>\n",
       "      <td>2011</td>\n",
       "      <td>NaN</td>\n",
       "      <td>San Francisco</td>\n",
       "      <td>NaN</td>\n",
       "    </tr>\n",
       "    <tr>\n",
       "      <th>4</th>\n",
       "      <td>5</td>\n",
       "      <td>PATRICK GARDNER</td>\n",
       "      <td>DEPUTY CHIEF OF DEPARTMENT,(FIRE DEPARTMENT)</td>\n",
       "      <td>134401.60</td>\n",
       "      <td>9737.00</td>\n",
       "      <td>182234.59</td>\n",
       "      <td>NaN</td>\n",
       "      <td>326373.19</td>\n",
       "      <td>326373.19</td>\n",
       "      <td>2011</td>\n",
       "      <td>NaN</td>\n",
       "      <td>San Francisco</td>\n",
       "      <td>NaN</td>\n",
       "    </tr>\n",
       "  </tbody>\n",
       "</table>\n",
       "</div>"
      ],
      "text/plain": [
       "   Id       EmployeeName                                        JobTitle  \\\n",
       "0   1     NATHANIEL FORD  GENERAL MANAGER-METROPOLITAN TRANSIT AUTHORITY   \n",
       "1   2       GARY JIMENEZ                 CAPTAIN III (POLICE DEPARTMENT)   \n",
       "2   3     ALBERT PARDINI                 CAPTAIN III (POLICE DEPARTMENT)   \n",
       "3   4  CHRISTOPHER CHONG            WIRE ROPE CABLE MAINTENANCE MECHANIC   \n",
       "4   5    PATRICK GARDNER    DEPUTY CHIEF OF DEPARTMENT,(FIRE DEPARTMENT)   \n",
       "\n",
       "     BasePay  OvertimePay   OtherPay  Benefits   TotalPay  TotalPayBenefits  \\\n",
       "0  167411.18         0.00  400184.25       NaN  567595.43         567595.43   \n",
       "1  155966.02    245131.88  137811.38       NaN  538909.28         538909.28   \n",
       "2  212739.13    106088.18   16452.60       NaN  335279.91         335279.91   \n",
       "3   77916.00     56120.71  198306.90       NaN  332343.61         332343.61   \n",
       "4  134401.60      9737.00  182234.59       NaN  326373.19         326373.19   \n",
       "\n",
       "   Year  Notes         Agency  Status  \n",
       "0  2011    NaN  San Francisco     NaN  \n",
       "1  2011    NaN  San Francisco     NaN  \n",
       "2  2011    NaN  San Francisco     NaN  \n",
       "3  2011    NaN  San Francisco     NaN  \n",
       "4  2011    NaN  San Francisco     NaN  "
      ]
     },
     "execution_count": 4,
     "metadata": {},
     "output_type": "execute_result"
    }
   ],
   "source": [
    "# Function of .head() for first 5 indexes.\n",
    "sal.head()"
   ]
  },
  {
   "cell_type": "markdown",
   "metadata": {},
   "source": [
    "** Use the .info() method to find out how many entries there are.**"
   ]
  },
  {
   "cell_type": "code",
   "execution_count": 5,
   "metadata": {},
   "outputs": [
    {
     "name": "stdout",
     "output_type": "stream",
     "text": [
      "<class 'pandas.core.frame.DataFrame'>\n",
      "RangeIndex: 148654 entries, 0 to 148653\n",
      "Data columns (total 13 columns):\n",
      " #   Column            Non-Null Count   Dtype  \n",
      "---  ------            --------------   -----  \n",
      " 0   Id                148654 non-null  int64  \n",
      " 1   EmployeeName      148654 non-null  object \n",
      " 2   JobTitle          148654 non-null  object \n",
      " 3   BasePay           148045 non-null  float64\n",
      " 4   OvertimePay       148650 non-null  float64\n",
      " 5   OtherPay          148650 non-null  float64\n",
      " 6   Benefits          112491 non-null  float64\n",
      " 7   TotalPay          148654 non-null  float64\n",
      " 8   TotalPayBenefits  148654 non-null  float64\n",
      " 9   Year              148654 non-null  int64  \n",
      " 10  Notes             0 non-null       float64\n",
      " 11  Agency            148654 non-null  object \n",
      " 12  Status            0 non-null       float64\n",
      "dtypes: float64(8), int64(2), object(3)\n",
      "memory usage: 14.7+ MB\n"
     ]
    }
   ],
   "source": [
    "# Function of .info() for showing more detials widely of Data inside csv file.\n",
    "sal.info()"
   ]
  },
  {
   "cell_type": "markdown",
   "metadata": {},
   "source": [
    "**What is the average BasePay ?**"
   ]
  },
  {
   "cell_type": "code",
   "execution_count": 6,
   "metadata": {},
   "outputs": [
    {
     "data": {
      "text/plain": [
       "66325.44884050643"
      ]
     },
     "execution_count": 6,
     "metadata": {},
     "output_type": "execute_result"
    }
   ],
   "source": [
    "#Assign function of .mean() for calculating average of 'BasePay' colume.\n",
    "\n",
    "sal['BasePay'].mean()"
   ]
  },
  {
   "cell_type": "markdown",
   "metadata": {},
   "source": [
    "** What is the highest amount of OvertimePay in the dataset ? **"
   ]
  },
  {
   "cell_type": "code",
   "execution_count": 7,
   "metadata": {},
   "outputs": [
    {
     "data": {
      "text/plain": [
       "245131.88"
      ]
     },
     "execution_count": 7,
     "metadata": {},
     "output_type": "execute_result"
    }
   ],
   "source": [
    "#Assign function of .max()for calculating the highest amount of 'OvertimePay' colume.\n",
    "\n",
    "sal['OvertimePay'].max()"
   ]
  },
  {
   "cell_type": "markdown",
   "metadata": {},
   "source": [
    "** What is the job title of  JOSEPH DRISCOLL ? Note: Use all caps, otherwise you may get an answer that doesn't match up (there is also a lowercase Joseph Driscoll). **"
   ]
  },
  {
   "cell_type": "code",
   "execution_count": 8,
   "metadata": {},
   "outputs": [
    {
     "data": {
      "text/plain": [
       "24    CAPTAIN, FIRE SUPPRESSION\n",
       "Name: JobTitle, dtype: object"
      ]
     },
     "execution_count": 8,
     "metadata": {},
     "output_type": "execute_result"
    }
   ],
   "source": [
    "# Assign conditional data frame to know the job title of JOSEPH DRISCOLL and taking care about name whole word is uppercase letters.\n",
    "\n",
    "sal[sal['EmployeeName']=='JOSEPH DRISCOLL']['JobTitle']"
   ]
  },
  {
   "cell_type": "markdown",
   "metadata": {},
   "source": [
    "** How much does JOSEPH DRISCOLL make (including benefits)? **"
   ]
  },
  {
   "cell_type": "code",
   "execution_count": 14,
   "metadata": {},
   "outputs": [
    {
     "data": {
      "text/plain": [
       "24    270324.91\n",
       "Name: TotalPayBenefits, dtype: float64"
      ]
     },
     "execution_count": 14,
     "metadata": {},
     "output_type": "execute_result"
    }
   ],
   "source": [
    "# Assign conditional data frame to know TotalPayBenefits of JOSEPH DRISCOLL.\n",
    "\n",
    "sal[sal['EmployeeName']=='JOSEPH DRISCOLL']['TotalPayBenefits']"
   ]
  },
  {
   "cell_type": "markdown",
   "metadata": {},
   "source": [
    "** What is the name of highest paid person (including benefits)?**"
   ]
  },
  {
   "cell_type": "code",
   "execution_count": 18,
   "metadata": {},
   "outputs": [
    {
     "data": {
      "text/plain": [
       "'NATHANIEL FORD'"
      ]
     },
     "execution_count": 18,
     "metadata": {},
     "output_type": "execute_result"
    }
   ],
   "source": [
    "# Assign data frame x to know the name of highest paid person by using .idxmax() function.\n",
    "\n",
    "x= sal['TotalPayBenefits'].idxmax()\n",
    "sal.loc[x]['EmployeeName']"
   ]
  },
  {
   "cell_type": "markdown",
   "metadata": {},
   "source": [
    "** What is the name of lowest paid person (including benefits)? Do you notice something strange about how much he or she is paid?**"
   ]
  },
  {
   "cell_type": "code",
   "execution_count": 19,
   "metadata": {},
   "outputs": [
    {
     "data": {
      "text/plain": [
       "Id                                      148654\n",
       "EmployeeName                         Joe Lopez\n",
       "JobTitle            Counselor, Log Cabin Ranch\n",
       "BasePay                                    0.0\n",
       "OvertimePay                                0.0\n",
       "OtherPay                               -618.13\n",
       "Benefits                                   0.0\n",
       "TotalPay                               -618.13\n",
       "TotalPayBenefits                       -618.13\n",
       "Year                                      2014\n",
       "Notes                                      NaN\n",
       "Agency                           San Francisco\n",
       "Status                                     NaN\n",
       "Name: 148653, dtype: object"
      ]
     },
     "execution_count": 19,
     "metadata": {},
     "output_type": "execute_result"
    }
   ],
   "source": [
    "# Assign data frame x to know the name of lowest paid person by using .idxmin() function.\n",
    "\n",
    "x= sal['TotalPayBenefits'].idxmin()\n",
    "sal.iloc[x]"
   ]
  },
  {
   "cell_type": "markdown",
   "metadata": {},
   "source": [
    "** What was the average (mean) BasePay of all employees per year? (2011-2014) ? **"
   ]
  },
  {
   "cell_type": "code",
   "execution_count": 20,
   "metadata": {},
   "outputs": [
    {
     "data": {
      "text/plain": [
       "Year\n",
       "2011    63595.956517\n",
       "2012    65436.406857\n",
       "2013    69630.030216\n",
       "2014    66564.421924\n",
       "Name: BasePay, dtype: float64"
      ]
     },
     "execution_count": 20,
     "metadata": {},
     "output_type": "execute_result"
    }
   ],
   "source": [
    "# Assign groupby method to group rows of data together in year and call aggregate functions.\n",
    "#for calculating the average of BasePay icluding all employees per year between 2011 to 2014 by use .mean().\n",
    "\n",
    "sal.groupby('Year').mean()['BasePay']"
   ]
  },
  {
   "cell_type": "markdown",
   "metadata": {},
   "source": [
    "** How many unique job titles are there? **"
   ]
  },
  {
   "cell_type": "code",
   "execution_count": 22,
   "metadata": {},
   "outputs": [
    {
     "data": {
      "text/plain": [
       "2159"
      ]
     },
     "execution_count": 22,
     "metadata": {},
     "output_type": "execute_result"
    }
   ],
   "source": [
    "# Assign function .nunique() for calculating number of unique values of 'JobTitle'. \n",
    "\n",
    "sal['JobTitle'].nunique()"
   ]
  },
  {
   "cell_type": "markdown",
   "metadata": {},
   "source": [
    "** What are the top 5 most common jobs? **"
   ]
  },
  {
   "cell_type": "code",
   "execution_count": 23,
   "metadata": {},
   "outputs": [
    {
     "data": {
      "text/plain": [
       "Transit Operator                7036\n",
       "Special Nurse                   4389\n",
       "Registered Nurse                3736\n",
       "Public Svc Aide-Public Works    2518\n",
       "Police Officer 3                2421\n",
       "Name: JobTitle, dtype: int64"
      ]
     },
     "execution_count": 23,
     "metadata": {},
     "output_type": "execute_result"
    }
   ],
   "source": [
    "# Assign function .value_counts() for counting values of 'JobTitle'. \n",
    "# Assign also .head() for persenting the top 5 most common jobs.\n",
    "    \n",
    "sal['JobTitle'].value_counts().head()"
   ]
  },
  {
   "cell_type": "markdown",
   "metadata": {},
   "source": [
    "** How many Job Titles were represented by only one person in 2013? (e.g. Job Titles with only one occurence in 2013?) **"
   ]
  },
  {
   "cell_type": "code",
   "execution_count": 24,
   "metadata": {},
   "outputs": [
    {
     "data": {
      "text/plain": [
       "202"
      ]
     },
     "execution_count": 24,
     "metadata": {},
     "output_type": "execute_result"
    }
   ],
   "source": [
    "#Assign conditional data frame to know Job Titles use .sum() were represented by only one person in 2013 .value_counts()==1.\n",
    "\n",
    "(sal[sal['Year']==2013]['JobTitle'].value_counts()==1).sum()"
   ]
  },
  {
   "cell_type": "markdown",
   "metadata": {},
   "source": [
    "** How many people have the word Chief in their job title? (This is pretty tricky) **"
   ]
  },
  {
   "cell_type": "code",
   "execution_count": 25,
   "metadata": {},
   "outputs": [
    {
     "data": {
      "text/plain": [
       "627"
      ]
     },
     "execution_count": 25,
     "metadata": {},
     "output_type": "execute_result"
    }
   ],
   "source": [
    "#Assign data frame and .apply() to function .sum() for calculating number of the word Chief as string x in their job title.\n",
    "\n",
    "sal['JobTitle'].apply(lambda x :('chief' in str(x).lower())).sum()"
   ]
  },
  {
   "cell_type": "markdown",
   "metadata": {},
   "source": [
    "** Bonus: Is there a correlation between length of the Job Title string and Salary? **"
   ]
  },
  {
   "cell_type": "code",
   "execution_count": 27,
   "metadata": {},
   "outputs": [],
   "source": [
    "#Assign data frame as 'title_len' use .apply(len) then .corr between'title_len' and 'TotalPayBenefits' for calculating correlation between them. \n",
    "\n",
    "sal['title_len'] = sal['JobTitle'].apply(len)"
   ]
  },
  {
   "cell_type": "code",
   "execution_count": 28,
   "metadata": {},
   "outputs": [
    {
     "data": {
      "text/html": [
       "<div>\n",
       "<style scoped>\n",
       "    .dataframe tbody tr th:only-of-type {\n",
       "        vertical-align: middle;\n",
       "    }\n",
       "\n",
       "    .dataframe tbody tr th {\n",
       "        vertical-align: top;\n",
       "    }\n",
       "\n",
       "    .dataframe thead th {\n",
       "        text-align: right;\n",
       "    }\n",
       "</style>\n",
       "<table border=\"1\" class=\"dataframe\">\n",
       "  <thead>\n",
       "    <tr style=\"text-align: right;\">\n",
       "      <th></th>\n",
       "      <th>title_len</th>\n",
       "      <th>TotalPayBenefits</th>\n",
       "    </tr>\n",
       "  </thead>\n",
       "  <tbody>\n",
       "    <tr>\n",
       "      <th>title_len</th>\n",
       "      <td>1.000000</td>\n",
       "      <td>-0.036878</td>\n",
       "    </tr>\n",
       "    <tr>\n",
       "      <th>TotalPayBenefits</th>\n",
       "      <td>-0.036878</td>\n",
       "      <td>1.000000</td>\n",
       "    </tr>\n",
       "  </tbody>\n",
       "</table>\n",
       "</div>"
      ],
      "text/plain": [
       "                  title_len  TotalPayBenefits\n",
       "title_len          1.000000         -0.036878\n",
       "TotalPayBenefits  -0.036878          1.000000"
      ]
     },
     "execution_count": 28,
     "metadata": {},
     "output_type": "execute_result"
    }
   ],
   "source": [
    "sal[['title_len','TotalPayBenefits']].corr()\n"
   ]
  },
  {
   "cell_type": "markdown",
   "metadata": {},
   "source": [
    "There is no corrlation between 'title_len' and 'TotalPayBenefits'."
   ]
  },
  {
   "cell_type": "markdown",
   "metadata": {},
   "source": [
    "# Great Job!"
   ]
  }
 ],
 "metadata": {
  "kernelspec": {
   "display_name": "Python 3 (ipykernel)",
   "language": "python",
   "name": "python3"
  },
  "language_info": {
   "codemirror_mode": {
    "name": "ipython",
    "version": 3
   },
   "file_extension": ".py",
   "mimetype": "text/x-python",
   "name": "python",
   "nbconvert_exporter": "python",
   "pygments_lexer": "ipython3",
   "version": "3.9.7"
  }
 },
 "nbformat": 4,
 "nbformat_minor": 1
}
